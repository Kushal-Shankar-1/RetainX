{
 "cells": [
  {
   "cell_type": "markdown",
   "id": "241fcb52",
   "metadata": {},
   "source": [
    "# Telco Customer Churn Prediction — Data Cleaning & EDA"
   ]
  },
  {
   "cell_type": "markdown",
   "id": "8dc1e114",
   "metadata": {},
   "source": [
    "### Step 1: Load Dataset\n",
    "We load the Telco Customer Churn dataset and preview the structure."
   ]
  },
  {
   "cell_type": "code",
   "execution_count": null,
   "id": "5bbde41e",
   "metadata": {},
   "outputs": [],
   "source": [
    "import pandas as pd\n",
    "import numpy as np\n",
    "import matplotlib.pyplot as plt\n",
    "import seaborn as sns\n",
    "\n",
    "# Load dataset\n",
    "df = pd.read_csv('../data/WA_Fn-UseC_-Telco-Customer-Churn.csv')\n",
    "\n",
    "# Display dataset shape and first few rows\n",
    "print(f\"Dataset shape: {df.shape}\")\n",
    "df.head()"
   ]
  },
  {
   "cell_type": "markdown",
   "id": "de4104c6",
   "metadata": {},
   "source": [
    "### Step 2: Inspect Data Structure\n",
    "We check data types, missing values, and column structure."
   ]
  },
  {
   "cell_type": "code",
   "execution_count": null,
   "id": "28820275",
   "metadata": {},
   "outputs": [],
   "source": [
    "df.info()"
   ]
  },
  {
   "cell_type": "markdown",
   "id": "6634dff9",
   "metadata": {},
   "source": [
    "### Step 3: Data Cleaning\n",
    "Convert `TotalCharges` to numeric and handle missing values."
   ]
  },
  {
   "cell_type": "code",
   "execution_count": null,
   "id": "ea55b478",
   "metadata": {},
   "outputs": [],
   "source": [
    "# Convert 'TotalCharges' from object to numeric\n",
    "df['TotalCharges'] = pd.to_numeric(df['TotalCharges'], errors='coerce')\n",
    "\n",
    "# Check missing values\n",
    "print(\"Missing values before imputation:\\n\", df.isnull().sum())\n",
    "\n",
    "# Impute missing TotalCharges values with mean\n",
    "df['TotalCharges'].fillna(df['TotalCharges'].mean(), inplace=True)\n",
    "\n",
    "# Confirm no missing values remain\n",
    "print(\"Missing values after imputation:\\n\", df.isnull().sum())"
   ]
  },
  {
   "cell_type": "markdown",
   "id": "00a4ab35",
   "metadata": {},
   "source": [
    "### Step 4: Check for Duplicates"
   ]
  },
  {
   "cell_type": "code",
   "execution_count": null,
   "id": "df8b5c4d",
   "metadata": {},
   "outputs": [],
   "source": [
    "duplicates = df.duplicated().sum()\n",
    "print(f\"Number of duplicate rows: {duplicates}\")"
   ]
  },
  {
   "cell_type": "markdown",
   "id": "61336815",
   "metadata": {},
   "source": [
    "### Step 5: Churn Distribution"
   ]
  },
  {
   "cell_type": "code",
   "execution_count": null,
   "id": "3cf9b044",
   "metadata": {},
   "outputs": [],
   "source": [
    "print(df['Churn'].value_counts(normalize=True))\n",
    "\n",
    "sns.countplot(x='Churn', data=df, palette='coolwarm')\n",
    "plt.title(\"Churn Distribution\")\n",
    "plt.show()"
   ]
  },
  {
   "cell_type": "markdown",
   "id": "388d7518",
   "metadata": {},
   "source": [
    "### Step 6: Churn by Contract Type"
   ]
  },
  {
   "cell_type": "code",
   "execution_count": null,
   "id": "e1466c75",
   "metadata": {},
   "outputs": [],
   "source": [
    "plt.figure(figsize=(8, 5))\n",
    "sns.countplot(x='Contract', hue='Churn', data=df, palette='coolwarm')\n",
    "plt.title(\"Churn by Contract Type\")\n",
    "plt.show()"
   ]
  },
  {
   "cell_type": "markdown",
   "id": "c92ee294",
   "metadata": {},
   "source": [
    "### Step 7: Churn by Payment Method"
   ]
  },
  {
   "cell_type": "code",
   "execution_count": null,
   "id": "7ca45f22",
   "metadata": {},
   "outputs": [],
   "source": [
    "plt.figure(figsize=(10, 5))\n",
    "sns.countplot(x='PaymentMethod', hue='Churn', data=df, palette='coolwarm')\n",
    "plt.title(\"Churn by Payment Method\")\n",
    "plt.xticks(rotation=45)\n",
    "plt.show()"
   ]
  },
  {
   "cell_type": "markdown",
   "id": "f1475f26",
   "metadata": {},
   "source": [
    "### Step 8: Tenure Distribution by Churn"
   ]
  },
  {
   "cell_type": "code",
   "execution_count": null,
   "id": "e085a545",
   "metadata": {},
   "outputs": [],
   "source": [
    "plt.figure(figsize=(10, 5))\n",
    "sns.histplot(data=df, x='tenure', hue='Churn', kde=True, bins=30, palette='coolwarm')\n",
    "plt.title(\"Tenure Distribution by Churn\")\n",
    "plt.show()"
   ]
  },
  {
   "cell_type": "markdown",
   "id": "a8b3f93b",
   "metadata": {},
   "source": [
    "### Step 9: Monthly Charges vs. Churn Boxplot"
   ]
  },
  {
   "cell_type": "code",
   "execution_count": null,
   "id": "c5fadcfe",
   "metadata": {},
   "outputs": [],
   "source": [
    "plt.figure(figsize=(8, 5))\n",
    "sns.boxplot(x='Churn', y='MonthlyCharges', data=df, palette='coolwarm')\n",
    "plt.title(\"Monthly Charges vs Churn\")\n",
    "plt.show()"
   ]
  },
  {
   "cell_type": "markdown",
   "id": "428f0d9b",
   "metadata": {},
   "source": [
    "### Step 10: Correlation Heatmap"
   ]
  },
  {
   "cell_type": "code",
   "execution_count": null,
   "id": "68bdf31a",
   "metadata": {},
   "outputs": [],
   "source": [
    "# Map churn to binary\n",
    "df['Churn'] = df['Churn'].map({'Yes': 1, 'No': 0})\n",
    "\n",
    "# Select numeric features\n",
    "numeric_features = df.select_dtypes(include=[np.number])\n",
    "\n",
    "# Correlation matrix\n",
    "corr = numeric_features.corr()\n",
    "\n",
    "plt.figure(figsize=(10, 8))\n",
    "sns.heatmap(corr, annot=True, cmap='coolwarm', fmt=\".2f\")\n",
    "plt.title(\"Correlation Heatmap\")\n",
    "plt.show()"
   ]
  }
 ],
 "metadata": {
  "kernelspec": {
   "display_name": "Python 3 (ipykernel)",
   "language": "python",
   "name": "python3"
  },
  "language_info": {
   "codemirror_mode": {
    "name": "ipython",
    "version": 3
   },
   "file_extension": ".py",
   "mimetype": "text/x-python",
   "name": "python",
   "nbconvert_exporter": "python",
   "pygments_lexer": "ipython3",
   "version": "3.10.12"
  }
 },
 "nbformat": 4,
 "nbformat_minor": 5
}
