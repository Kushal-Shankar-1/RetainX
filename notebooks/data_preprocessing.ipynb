{
 "cells": [
  {
   "cell_type": "markdown",
   "id": "e6e7538b",
   "metadata": {},
   "source": [
    "# Telco Customer Churn Prediction — Data Preprocessing"
   ]
  },
  {
   "cell_type": "markdown",
   "id": "0174cee7",
   "metadata": {},
   "source": [
    "### Step 1: Load Cleaned Data\n",
    "Load the dataset prepared in the previous EDA step."
   ]
  },
  {
   "cell_type": "code",
   "execution_count": null,
   "id": "8eeec7bb",
   "metadata": {},
   "outputs": [],
   "source": [
    "import pandas as pd\n",
    "import numpy as np\n",
    "from sklearn.preprocessing import LabelEncoder, StandardScaler\n",
    "from sklearn.model_selection import train_test_split\n",
    "\n",
    "# Load data\n",
    "df = pd.read_csv('../data/WA_Fn-UseC_-Telco-Customer-Churn.csv')\n",
    "\n",
    "# Convert TotalCharges\n",
    "\n",
    "# Just in case\n",
    "if df['TotalCharges'].dtype == 'object':\n",
    "    df['TotalCharges'] = pd.to_numeric(df['TotalCharges'], errors='coerce')\n",
    "    df['TotalCharges'].fillna(df['TotalCharges'].mean(), inplace=True)\n",
    "\n",
    "# Map churn to binary\n",
    "df['Churn'] = df['Churn'].map({'Yes': 1, 'No': 0})"
   ]
  },
  {
   "cell_type": "markdown",
   "id": "df2dd31f",
   "metadata": {},
   "source": [
    "### Step 2: Separate Features\n",
    "Separate categorical and numerical columns."
   ]
  },
  {
   "cell_type": "code",
   "execution_count": null,
   "id": "627732f0",
   "metadata": {},
   "outputs": [],
   "source": [
    "# Separate feature types\n",
    "categorical_cols = df.select_dtypes(include=['object']).columns.tolist()\n",
    "\n",
    "# Remove customerID from categorical columns\n",
    "categorical_cols.remove('customerID')\n",
    "\n",
    "numerical_cols = df.select_dtypes(include=['int64', 'float64']).columns.tolist()\n",
    "numerical_cols.remove('Churn')  # target variable\n",
    "\n",
    "print(\"Categorical columns:\", categorical_cols)\n",
    "print(\"Numerical columns:\", numerical_cols)"
   ]
  },
  {
   "cell_type": "markdown",
   "id": "fee6b937",
   "metadata": {},
   "source": [
    "### Step 3: Encode Categorical Features"
   ]
  },
  {
   "cell_type": "code",
   "execution_count": null,
   "id": "8fbed61f",
   "metadata": {},
   "outputs": [],
   "source": [
    "# Label encode binary categorical columns\n",
    "binary_cols = [col for col in categorical_cols if df[col].nunique() == 2]\n",
    "le = LabelEncoder()\n",
    "for col in binary_cols:\n",
    "    df[col] = le.fit_transform(df[col])\n",
    "\n",
    "# One-hot encode multi-category columns\n",
    "multi_cat_cols = [col for col in categorical_cols if df[col].nunique() > 2]\n",
    "df = pd.get_dummies(df, columns=multi_cat_cols, drop_first=True)\n",
    "\n",
    "df.head()"
   ]
  },
  {
   "cell_type": "markdown",
   "id": "15104d36",
   "metadata": {},
   "source": [
    "### Step 4: Scale Numerical Features"
   ]
  },
  {
   "cell_type": "code",
   "execution_count": null,
   "id": "ccccaba8",
   "metadata": {},
   "outputs": [],
   "source": [
    "scaler = StandardScaler()\n",
    "df[numerical_cols] = scaler.fit_transform(df[numerical_cols])\n",
    "df.head()"
   ]
  },
  {
   "cell_type": "markdown",
   "id": "52427efb",
   "metadata": {},
   "source": [
    "### Step 5: Split into Training and Test Sets"
   ]
  },
  {
   "cell_type": "code",
   "execution_count": null,
   "id": "2b354b70",
   "metadata": {},
   "outputs": [],
   "source": [
    "# Split features and target\n",
    "X = df.drop(['customerID', 'Churn'], axis=1)\n",
    "y = df['Churn']\n",
    "\n",
    "# Train-test split\n",
    "X_train, X_test, y_train, y_test = train_test_split(X, y, test_size=0.2, random_state=42, stratify=y)\n",
    "\n",
    "print(f\"Training set size: {X_train.shape}\")\n",
    "print(f\"Test set size: {X_test.shape}\")"
   ]
  }
 ],
 "metadata": {
  "kernelspec": {
   "display_name": "Python 3 (ipykernel)",
   "language": "python",
   "name": "python3"
  },
  "language_info": {
   "codemirror_mode": {
    "name": "ipython",
    "version": 3
   },
   "file_extension": ".py",
   "mimetype": "text/x-python",
   "name": "python",
   "nbconvert_exporter": "python",
   "pygments_lexer": "ipython3",
   "version": "3.10.12"
  }
 },
 "nbformat": 4,
 "nbformat_minor": 5
}
