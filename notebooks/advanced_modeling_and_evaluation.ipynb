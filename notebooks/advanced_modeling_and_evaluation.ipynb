{
 "cells": [
  {
   "cell_type": "markdown",
   "id": "3e5b6c3b",
   "metadata": {},
   "source": [
    "# Telco Customer Churn Prediction — Advanced Modeling & Evaluation"
   ]
  },
  {
   "cell_type": "markdown",
   "id": "a3fcd1da",
   "metadata": {},
   "source": [
    "### Step 1: Load Data and Train-Test Split (from previous step)"
   ]
  },
  {
   "cell_type": "code",
   "execution_count": null,
   "id": "d331cfca",
   "metadata": {},
   "outputs": [],
   "source": [
    "\n",
    "import pandas as pd\n",
    "import numpy as np\n",
    "from sklearn.model_selection import train_test_split\n",
    "\n",
    "# Load preprocessed dataset (adjust path if needed)\n",
    "df = pd.read_csv('../data/WA_Fn-UseC_-Telco-Customer-Churn.csv')\n",
    "df['TotalCharges'] = pd.to_numeric(df['TotalCharges'], errors='coerce')\n",
    "df['TotalCharges'].fillna(df['TotalCharges'].mean(), inplace=True)\n",
    "df['Churn'] = df['Churn'].map({'Yes': 1, 'No': 0})\n",
    "\n",
    "# Feature engineering if needed (optional repeat from baseline notebook)\n",
    "X = df.drop(['customerID', 'Churn'], axis=1)\n",
    "y = df['Churn']\n",
    "\n",
    "X_train, X_test, y_train, y_test = train_test_split(X, y, test_size=0.2, random_state=42, stratify=y)\n"
   ]
  },
  {
   "cell_type": "markdown",
   "id": "0d8967cd",
   "metadata": {},
   "source": [
    "### Step 2: Handle Class Imbalance with SMOTE"
   ]
  },
  {
   "cell_type": "code",
   "execution_count": null,
   "id": "b29433ba",
   "metadata": {},
   "outputs": [],
   "source": [
    "\n",
    "from imblearn.over_sampling import SMOTE\n",
    "\n",
    "smote = SMOTE(random_state=42)\n",
    "X_train_sm, y_train_sm = smote.fit_resample(X_train, y_train)\n",
    "\n",
    "print(f\"Before SMOTE: {y_train.value_counts()}\")\n",
    "print(f\"After SMOTE: {y_train_sm.value_counts()}\")\n"
   ]
  },
  {
   "cell_type": "markdown",
   "id": "c3e81c7f",
   "metadata": {},
   "source": [
    "### Step 3: Random Forest Classifier"
   ]
  },
  {
   "cell_type": "code",
   "execution_count": null,
   "id": "6e5dd733",
   "metadata": {},
   "outputs": [],
   "source": [
    "\n",
    "from sklearn.ensemble import RandomForestClassifier\n",
    "from sklearn.metrics import accuracy_score, precision_score, recall_score, f1_score, roc_auc_score, confusion_matrix\n",
    "\n",
    "rf = RandomForestClassifier(random_state=42)\n",
    "rf.fit(X_train_sm, y_train_sm)\n",
    "y_pred_rf = rf.predict(X_test)\n",
    "\n",
    "print(\"Random Forest Performance:\")\n",
    "print(f\"Accuracy: {accuracy_score(y_test, y_pred_rf):.4f}\")\n",
    "print(f\"Precision: {precision_score(y_test, y_pred_rf):.4f}\")\n",
    "print(f\"Recall: {recall_score(y_test, y_pred_rf):.4f}\")\n",
    "print(f\"F1 Score: {f1_score(y_test, y_pred_rf):.4f}\")\n",
    "print(f\"ROC-AUC: {roc_auc_score(y_test, y_pred_rf):.4f}\")\n"
   ]
  },
  {
   "cell_type": "markdown",
   "id": "125f1e02",
   "metadata": {},
   "source": [
    "### Step 4: XGBoost Classifier with Hyperparameter Tuning"
   ]
  },
  {
   "cell_type": "code",
   "execution_count": null,
   "id": "9d4d5b27",
   "metadata": {},
   "outputs": [],
   "source": [
    "\n",
    "from xgboost import XGBClassifier\n",
    "from sklearn.model_selection import GridSearchCV\n",
    "\n",
    "xgb = XGBClassifier(use_label_encoder=False, eval_metric='logloss', random_state=42)\n",
    "\n",
    "param_grid = {\n",
    "    'n_estimators': [100, 200],\n",
    "    'max_depth': [3, 5, 7],\n",
    "    'learning_rate': [0.01, 0.1, 0.2]\n",
    "}\n",
    "\n",
    "grid_xgb = GridSearchCV(estimator=xgb, param_grid=param_grid, scoring='roc_auc', cv=3, verbose=1, n_jobs=-1)\n",
    "grid_xgb.fit(X_train_sm, y_train_sm)\n",
    "\n",
    "print(f\"Best Parameters: {grid_xgb.best_params_}\")\n",
    "y_pred_xgb = grid_xgb.best_estimator_.predict(X_test)\n",
    "\n",
    "print(\"XGBoost Performance:\")\n",
    "print(f\"Accuracy: {accuracy_score(y_test, y_pred_xgb):.4f}\")\n",
    "print(f\"Precision: {precision_score(y_test, y_pred_xgb):.4f}\")\n",
    "print(f\"Recall: {recall_score(y_test, y_pred_xgb):.4f}\")\n",
    "print(f\"F1 Score: {f1_score(y_test, y_pred_xgb):.4f}\")\n",
    "print(f\"ROC-AUC: {roc_auc_score(y_test, y_pred_xgb):.4f}\")"
   ]
  },
  {
   "cell_type": "markdown",
   "id": "f00b55fb",
   "metadata": {},
   "source": [
    "### Step 5: Model Comparison Table"
   ]
  },
  {
   "cell_type": "code",
   "execution_count": null,
   "id": "7a08c6b0",
   "metadata": {},
   "outputs": [],
   "source": [
    "\n",
    "comparison = pd.DataFrame({\n",
    "    'Model': ['Random Forest', 'XGBoost'],\n",
    "    'Accuracy': [accuracy_score(y_test, y_pred_rf), accuracy_score(y_test, y_pred_xgb)],\n",
    "    'Precision': [precision_score(y_test, y_pred_rf), precision_score(y_test, y_pred_xgb)],\n",
    "    'Recall': [recall_score(y_test, y_pred_rf), recall_score(y_test, y_pred_xgb)],\n",
    "    'F1 Score': [f1_score(y_test, y_pred_rf), f1_score(y_test, y_pred_xgb)],\n",
    "    'ROC-AUC': [roc_auc_score(y_test, y_pred_rf), roc_auc_score(y_test, y_pred_xgb)]\n",
    "})\n",
    "\n",
    "comparison.set_index('Model').round(4)\n"
   ]
  },
  {
   "cell_type": "markdown",
   "id": "6ed0050c",
   "metadata": {},
   "source": [
    "### Step 6: Feature Importance from XGBoost"
   ]
  },
  {
   "cell_type": "code",
   "execution_count": null,
   "id": "6d732077",
   "metadata": {},
   "outputs": [],
   "source": [
    "\n",
    "import matplotlib.pyplot as plt\n",
    "\n",
    "importances = pd.Series(grid_xgb.best_estimator_.feature_importances_, index=X_train.columns)\n",
    "importances.nlargest(10).plot(kind='barh')\n",
    "plt.xlabel('Feature Importance')\n",
    "plt.title('Top 10 Features (XGBoost)')\n",
    "plt.gca().invert_yaxis()\n",
    "plt.show()\n"
   ]
  }
 ],
 "metadata": {
  "kernelspec": {
   "display_name": "Python 3 (ipykernel)",
   "language": "python",
   "name": "python3"
  },
  "language_info": {
   "codemirror_mode": {
    "name": "ipython",
    "version": 3
   },
   "file_extension": ".py",
   "mimetype": "text/x-python",
   "name": "python",
   "nbconvert_exporter": "python",
   "pygments_lexer": "ipython3",
   "version": "3.10.12"
  }
 },
 "nbformat": 4,
 "nbformat_minor": 5
}
