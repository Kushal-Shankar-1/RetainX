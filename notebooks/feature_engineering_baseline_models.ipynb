{
 "cells": [
  {
   "cell_type": "markdown",
   "id": "ccd1e2ab",
   "metadata": {},
   "source": [
    "# Telco Customer Churn Prediction — Feature Engineering & Baseline Modeling"
   ]
  },
  {
   "cell_type": "markdown",
   "id": "9f60e4f2",
   "metadata": {},
   "source": [
    "### Step 1: Load Preprocessed Data"
   ]
  },
  {
   "cell_type": "code",
   "execution_count": 16,
   "id": "3fb489c6",
   "metadata": {},
   "outputs": [
    {
     "name": "stderr",
     "output_type": "stream",
     "text": [
      "/tmp/ipykernel_261414/1620143700.py:8: FutureWarning: A value is trying to be set on a copy of a DataFrame or Series through chained assignment using an inplace method.\n",
      "The behavior will change in pandas 3.0. This inplace method will never work because the intermediate object on which we are setting values always behaves as a copy.\n",
      "\n",
      "For example, when doing 'df[col].method(value, inplace=True)', try using 'df.method({col: value}, inplace=True)' or df[col] = df[col].method(value) instead, to perform the operation inplace on the original object.\n",
      "\n",
      "\n",
      "  df['TotalCharges'].fillna(df['TotalCharges'].mean(), inplace=True)\n"
     ]
    }
   ],
   "source": [
    "\n",
    "import pandas as pd\n",
    "import numpy as np\n",
    "from sklearn.model_selection import train_test_split\n",
    "\n",
    "# Load dataset\n",
    "df = pd.read_csv('../data/preprocessed_telco.csv')\n",
    "df['TotalCharges'] = pd.to_numeric(df['TotalCharges'], errors='coerce')\n",
    "df['TotalCharges'].fillna(df['TotalCharges'].mean(), inplace=True)\n",
    "df['Churn'] = df['Churn'].map({'Yes': 1, 'No': 0})\n"
   ]
  },
  {
   "cell_type": "code",
   "execution_count": 17,
   "id": "c2d5f029-f84d-46d3-b685-9e513df2b354",
   "metadata": {},
   "outputs": [
    {
     "data": {
      "text/plain": [
       "np.int64(0)"
      ]
     },
     "execution_count": 17,
     "metadata": {},
     "output_type": "execute_result"
    }
   ],
   "source": [
    "df = pd.read_csv('../data/preprocessed_telco.csv')\n",
    "df['Churn'].unique()\n",
    "df['Churn'].isnull().sum()"
   ]
  },
  {
   "cell_type": "markdown",
   "id": "e412edb6",
   "metadata": {},
   "source": [
    "### Step 2: Feature Engineering — Tenure Groups & Average Monthly Charge"
   ]
  },
  {
   "cell_type": "code",
   "execution_count": 18,
   "id": "75778579",
   "metadata": {},
   "outputs": [
    {
     "data": {
      "text/html": [
       "<div>\n",
       "<style scoped>\n",
       "    .dataframe tbody tr th:only-of-type {\n",
       "        vertical-align: middle;\n",
       "    }\n",
       "\n",
       "    .dataframe tbody tr th {\n",
       "        vertical-align: top;\n",
       "    }\n",
       "\n",
       "    .dataframe thead th {\n",
       "        text-align: right;\n",
       "    }\n",
       "</style>\n",
       "<table border=\"1\" class=\"dataframe\">\n",
       "  <thead>\n",
       "    <tr style=\"text-align: right;\">\n",
       "      <th></th>\n",
       "      <th>customerID</th>\n",
       "      <th>gender</th>\n",
       "      <th>SeniorCitizen</th>\n",
       "      <th>Partner</th>\n",
       "      <th>Dependents</th>\n",
       "      <th>tenure</th>\n",
       "      <th>PhoneService</th>\n",
       "      <th>PaperlessBilling</th>\n",
       "      <th>MonthlyCharges</th>\n",
       "      <th>TotalCharges</th>\n",
       "      <th>...</th>\n",
       "      <th>StreamingTV_No internet service</th>\n",
       "      <th>StreamingTV_Yes</th>\n",
       "      <th>StreamingMovies_No internet service</th>\n",
       "      <th>StreamingMovies_Yes</th>\n",
       "      <th>Contract_One year</th>\n",
       "      <th>Contract_Two year</th>\n",
       "      <th>PaymentMethod_Credit card (automatic)</th>\n",
       "      <th>PaymentMethod_Electronic check</th>\n",
       "      <th>PaymentMethod_Mailed check</th>\n",
       "      <th>avg_monthly_charge</th>\n",
       "    </tr>\n",
       "  </thead>\n",
       "  <tbody>\n",
       "    <tr>\n",
       "      <th>0</th>\n",
       "      <td>7590-VHVEG</td>\n",
       "      <td>0</td>\n",
       "      <td>-0.439916</td>\n",
       "      <td>1</td>\n",
       "      <td>0</td>\n",
       "      <td>-1.277445</td>\n",
       "      <td>0</td>\n",
       "      <td>1</td>\n",
       "      <td>-1.160323</td>\n",
       "      <td>-0.994971</td>\n",
       "      <td>...</td>\n",
       "      <td>False</td>\n",
       "      <td>False</td>\n",
       "      <td>False</td>\n",
       "      <td>False</td>\n",
       "      <td>False</td>\n",
       "      <td>False</td>\n",
       "      <td>False</td>\n",
       "      <td>True</td>\n",
       "      <td>False</td>\n",
       "      <td>0.778876</td>\n",
       "    </tr>\n",
       "    <tr>\n",
       "      <th>1</th>\n",
       "      <td>5575-GNVDE</td>\n",
       "      <td>1</td>\n",
       "      <td>-0.439916</td>\n",
       "      <td>0</td>\n",
       "      <td>0</td>\n",
       "      <td>0.066327</td>\n",
       "      <td>1</td>\n",
       "      <td>0</td>\n",
       "      <td>-0.259629</td>\n",
       "      <td>-0.173876</td>\n",
       "      <td>...</td>\n",
       "      <td>False</td>\n",
       "      <td>False</td>\n",
       "      <td>False</td>\n",
       "      <td>False</td>\n",
       "      <td>True</td>\n",
       "      <td>False</td>\n",
       "      <td>False</td>\n",
       "      <td>False</td>\n",
       "      <td>True</td>\n",
       "      <td>-2.621475</td>\n",
       "    </tr>\n",
       "    <tr>\n",
       "      <th>2</th>\n",
       "      <td>3668-QPYBK</td>\n",
       "      <td>1</td>\n",
       "      <td>-0.439916</td>\n",
       "      <td>0</td>\n",
       "      <td>0</td>\n",
       "      <td>-1.236724</td>\n",
       "      <td>1</td>\n",
       "      <td>1</td>\n",
       "      <td>-0.362660</td>\n",
       "      <td>-0.960399</td>\n",
       "      <td>...</td>\n",
       "      <td>False</td>\n",
       "      <td>False</td>\n",
       "      <td>False</td>\n",
       "      <td>False</td>\n",
       "      <td>False</td>\n",
       "      <td>False</td>\n",
       "      <td>False</td>\n",
       "      <td>False</td>\n",
       "      <td>True</td>\n",
       "      <td>0.776567</td>\n",
       "    </tr>\n",
       "    <tr>\n",
       "      <th>3</th>\n",
       "      <td>7795-CFOCW</td>\n",
       "      <td>1</td>\n",
       "      <td>-0.439916</td>\n",
       "      <td>0</td>\n",
       "      <td>0</td>\n",
       "      <td>0.514251</td>\n",
       "      <td>0</td>\n",
       "      <td>0</td>\n",
       "      <td>-0.746535</td>\n",
       "      <td>-0.195400</td>\n",
       "      <td>...</td>\n",
       "      <td>False</td>\n",
       "      <td>False</td>\n",
       "      <td>False</td>\n",
       "      <td>False</td>\n",
       "      <td>True</td>\n",
       "      <td>False</td>\n",
       "      <td>False</td>\n",
       "      <td>False</td>\n",
       "      <td>False</td>\n",
       "      <td>-0.379970</td>\n",
       "    </tr>\n",
       "    <tr>\n",
       "      <th>4</th>\n",
       "      <td>9237-HQITU</td>\n",
       "      <td>0</td>\n",
       "      <td>-0.439916</td>\n",
       "      <td>0</td>\n",
       "      <td>0</td>\n",
       "      <td>-1.236724</td>\n",
       "      <td>1</td>\n",
       "      <td>1</td>\n",
       "      <td>0.197365</td>\n",
       "      <td>-0.941193</td>\n",
       "      <td>...</td>\n",
       "      <td>False</td>\n",
       "      <td>False</td>\n",
       "      <td>False</td>\n",
       "      <td>False</td>\n",
       "      <td>False</td>\n",
       "      <td>False</td>\n",
       "      <td>False</td>\n",
       "      <td>True</td>\n",
       "      <td>False</td>\n",
       "      <td>0.761037</td>\n",
       "    </tr>\n",
       "  </tbody>\n",
       "</table>\n",
       "<p>5 rows × 33 columns</p>\n",
       "</div>"
      ],
      "text/plain": [
       "   customerID  gender  SeniorCitizen  Partner  Dependents    tenure  \\\n",
       "0  7590-VHVEG       0      -0.439916        1           0 -1.277445   \n",
       "1  5575-GNVDE       1      -0.439916        0           0  0.066327   \n",
       "2  3668-QPYBK       1      -0.439916        0           0 -1.236724   \n",
       "3  7795-CFOCW       1      -0.439916        0           0  0.514251   \n",
       "4  9237-HQITU       0      -0.439916        0           0 -1.236724   \n",
       "\n",
       "   PhoneService  PaperlessBilling  MonthlyCharges  TotalCharges  ...  \\\n",
       "0             0                 1       -1.160323     -0.994971  ...   \n",
       "1             1                 0       -0.259629     -0.173876  ...   \n",
       "2             1                 1       -0.362660     -0.960399  ...   \n",
       "3             0                 0       -0.746535     -0.195400  ...   \n",
       "4             1                 1        0.197365     -0.941193  ...   \n",
       "\n",
       "   StreamingTV_No internet service  StreamingTV_Yes  \\\n",
       "0                            False            False   \n",
       "1                            False            False   \n",
       "2                            False            False   \n",
       "3                            False            False   \n",
       "4                            False            False   \n",
       "\n",
       "   StreamingMovies_No internet service  StreamingMovies_Yes  \\\n",
       "0                                False                False   \n",
       "1                                False                False   \n",
       "2                                False                False   \n",
       "3                                False                False   \n",
       "4                                False                False   \n",
       "\n",
       "   Contract_One year  Contract_Two year  \\\n",
       "0              False              False   \n",
       "1               True              False   \n",
       "2              False              False   \n",
       "3               True              False   \n",
       "4              False              False   \n",
       "\n",
       "   PaymentMethod_Credit card (automatic)  PaymentMethod_Electronic check  \\\n",
       "0                                  False                            True   \n",
       "1                                  False                           False   \n",
       "2                                  False                           False   \n",
       "3                                  False                           False   \n",
       "4                                  False                            True   \n",
       "\n",
       "   PaymentMethod_Mailed check  avg_monthly_charge  \n",
       "0                       False            0.778876  \n",
       "1                        True           -2.621475  \n",
       "2                        True            0.776567  \n",
       "3                       False           -0.379970  \n",
       "4                       False            0.761037  \n",
       "\n",
       "[5 rows x 33 columns]"
      ]
     },
     "execution_count": 18,
     "metadata": {},
     "output_type": "execute_result"
    }
   ],
   "source": [
    "\n",
    "def tenure_group(tenure):\n",
    "    if tenure <= 12:\n",
    "        return '0-12 months'\n",
    "    elif tenure <= 24:\n",
    "        return '12-24 months'\n",
    "    elif tenure <= 48:\n",
    "        return '24-48 months'\n",
    "    else:\n",
    "        return '48+ months'\n",
    "\n",
    "df['tenure_group'] = df['tenure'].apply(tenure_group)\n",
    "df['avg_monthly_charge'] = df['TotalCharges'] / df['tenure'].replace(0, 1)\n",
    "\n",
    "# One-hot encode tenure_group\n",
    "df = pd.get_dummies(df, columns=['tenure_group'], drop_first=True)\n",
    "df.head()\n"
   ]
  },
  {
   "cell_type": "markdown",
   "id": "e2bc7ccb",
   "metadata": {},
   "source": [
    "### Step 3: Separate Features and Target"
   ]
  },
  {
   "cell_type": "code",
   "execution_count": 19,
   "id": "a316f40f",
   "metadata": {},
   "outputs": [
    {
     "name": "stdout",
     "output_type": "stream",
     "text": [
      "Training size: (5634, 31), Testing size: (1409, 31)\n"
     ]
    }
   ],
   "source": [
    "\n",
    "X = df.drop(['customerID', 'Churn'], axis=1)\n",
    "y = df['Churn']\n",
    "\n",
    "# Split data\n",
    "X_train, X_test, y_train, y_test = train_test_split(X, y, test_size=0.2, random_state=42, stratify=y)\n",
    "print(f\"Training size: {X_train.shape}, Testing size: {X_test.shape}\")\n"
   ]
  },
  {
   "cell_type": "markdown",
   "id": "84a6d96f",
   "metadata": {},
   "source": [
    "### Step 4: Baseline Model — Logistic Regression"
   ]
  },
  {
   "cell_type": "code",
   "execution_count": 20,
   "id": "d25fd458",
   "metadata": {},
   "outputs": [
    {
     "name": "stdout",
     "output_type": "stream",
     "text": [
      "Logistic Regression Performance:\n",
      "Accuracy: 0.8041\n",
      "Precision: 0.6551\n",
      "Recall: 0.5535\n",
      "F1 Score: 0.6000\n",
      "ROC-AUC: 0.7241\n"
     ]
    }
   ],
   "source": [
    "\n",
    "from sklearn.linear_model import LogisticRegression\n",
    "from sklearn.metrics import accuracy_score, precision_score, recall_score, f1_score, roc_auc_score\n",
    "\n",
    "lr = LogisticRegression(max_iter=1000)\n",
    "lr.fit(X_train, y_train)\n",
    "y_pred_lr = lr.predict(X_test)\n",
    "\n",
    "print(\"Logistic Regression Performance:\")\n",
    "print(f\"Accuracy: {accuracy_score(y_test, y_pred_lr):.4f}\")\n",
    "print(f\"Precision: {precision_score(y_test, y_pred_lr):.4f}\")\n",
    "print(f\"Recall: {recall_score(y_test, y_pred_lr):.4f}\")\n",
    "print(f\"F1 Score: {f1_score(y_test, y_pred_lr):.4f}\")\n",
    "print(f\"ROC-AUC: {roc_auc_score(y_test, y_pred_lr):.4f}\")\n"
   ]
  },
  {
   "cell_type": "markdown",
   "id": "2ef29a43-d035-4794-b9f4-b1e8940ceb5d",
   "metadata": {},
   "source": [
    "**Observation:**  \n",
    "The Logistic Regression model provides a solid baseline with balanced accuracy, precision, and recall. The ROC-AUC score indicates reasonable separation ability between churned and retained customers. This suggests that linear relationships between features and churn are significant but may be further improved with more complex models."
   ]
  },
  {
   "cell_type": "markdown",
   "id": "6395b48d",
   "metadata": {},
   "source": [
    "### Step 5: Baseline Model — Decision Tree Classifier"
   ]
  },
  {
   "cell_type": "code",
   "execution_count": 21,
   "id": "de016e6e",
   "metadata": {},
   "outputs": [
    {
     "name": "stdout",
     "output_type": "stream",
     "text": [
      "Decision Tree Performance:\n",
      "Accuracy: 0.7899\n",
      "Precision: 0.6466\n",
      "Recall: 0.4599\n",
      "F1 Score: 0.5375\n",
      "ROC-AUC: 0.6845\n"
     ]
    }
   ],
   "source": [
    "\n",
    "from sklearn.tree import DecisionTreeClassifier\n",
    "\n",
    "dt = DecisionTreeClassifier(max_depth=5, random_state=42)\n",
    "dt.fit(X_train, y_train)\n",
    "y_pred_dt = dt.predict(X_test)\n",
    "\n",
    "print(\"Decision Tree Performance:\")\n",
    "print(f\"Accuracy: {accuracy_score(y_test, y_pred_dt):.4f}\")\n",
    "print(f\"Precision: {precision_score(y_test, y_pred_dt):.4f}\")\n",
    "print(f\"Recall: {recall_score(y_test, y_pred_dt):.4f}\")\n",
    "print(f\"F1 Score: {f1_score(y_test, y_pred_dt):.4f}\")\n",
    "print(f\"ROC-AUC: {roc_auc_score(y_test, y_pred_dt):.4f}\")\n"
   ]
  },
  {
   "cell_type": "markdown",
   "id": "61f92eaa-b5b4-4abe-9c8f-d553c42432bd",
   "metadata": {},
   "source": [
    "**Observation:**  \n",
    "The top contributing features identified by the Decision Tree include contract type, tenure, monthly charges, and billing method. This reinforces our earlier EDA observations and confirms that contractual flexibility and billing factors heavily influence customer churn."
   ]
  },
  {
   "cell_type": "markdown",
   "id": "72192d1a",
   "metadata": {},
   "source": [
    "### Step 6: Feature Importance from Decision Tree"
   ]
  },
  {
   "cell_type": "code",
   "execution_count": 22,
   "id": "d79ff8cc",
   "metadata": {},
   "outputs": [
    {
     "data": {
      "image/png": "[encoded data removed]",
      "text/plain": [
       "<Figure size 640x480 with 1 Axes>"
      ]
     },
     "metadata": {},
     "output_type": "display_data"
    }
   ],
   "source": [
    "\n",
    "import matplotlib.pyplot as plt\n",
    "\n",
    "feature_importances = pd.Series(dt.feature_importances_, index=X_train.columns)\n",
    "top_features = feature_importances.sort_values(ascending=False).head(10)\n",
    "\n",
    "top_features.plot(kind='barh')\n",
    "plt.xlabel('Feature Importance Score')\n",
    "plt.title('Top 10 Important Features (Decision Tree)')\n",
    "plt.gca().invert_yaxis()\n",
    "plt.show()\n"
   ]
  },
  {
   "cell_type": "markdown",
   "id": "ba829a97-6421-4bde-bc9a-2211bc56d35a",
   "metadata": {},
   "source": [
    "**Observation:**  \n",
    "The top contributing features identified by the Decision Tree include contract type, tenure, monthly charges, and billing method. This reinforces our earlier EDA observations and confirms that contractual flexibility and billing factors heavily influence customer churn."
   ]
  },
  {
   "cell_type": "markdown",
   "id": "62d44299-94d3-491d-a49a-24247dbd4a2f",
   "metadata": {},
   "source": [
    "### Baseline Model Summary:\n",
    "- Both Logistic Regression and Decision Tree models confirm that churn prediction is strongly influenced by contract type, tenure, and monthly charges.  \n",
    "- While baseline models offer a good starting point, more robust ensemble methods (Random Forest, XGBoost) will likely enhance prediction performance and handle feature interactions more effectively."
   ]
  },
  {
   "cell_type": "code",
   "execution_count": null,
   "id": "7ec52369-72ca-4b4b-ab34-535fe56fc6ed",
   "metadata": {},
   "outputs": [],
   "source": []
  }
 ],
 "metadata": {
  "kernelspec": {
   "display_name": "Python 3 (ipykernel)",
   "language": "python",
   "name": "python3"
  },
  "language_info": {
   "codemirror_mode": {
    "name": "ipython",
    "version": 3
   },
   "file_extension": ".py",
   "mimetype": "text/x-python",
   "name": "python",
   "nbconvert_exporter": "python",
   "pygments_lexer": "ipython3",
   "version": "3.10.12"
  }
 },
 "nbformat": 4,
 "nbformat_minor": 5
}
