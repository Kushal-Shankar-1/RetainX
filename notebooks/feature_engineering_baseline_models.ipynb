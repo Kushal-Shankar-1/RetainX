{
 "cells": [
  {
   "cell_type": "markdown",
   "id": "ccd1e2ab",
   "metadata": {},
   "source": [
    "# Telco Customer Churn Prediction — Feature Engineering & Baseline Modeling"
   ]
  },
  {
   "cell_type": "markdown",
   "id": "9f60e4f2",
   "metadata": {},
   "source": [
    "### Step 1: Load Preprocessed Data"
   ]
  },
  {
   "cell_type": "code",
   "execution_count": null,
   "id": "3fb489c6",
   "metadata": {},
   "outputs": [],
   "source": [
    "\n",
    "import pandas as pd\n",
    "import numpy as np\n",
    "from sklearn.model_selection import train_test_split\n",
    "\n",
    "# Load dataset\n",
    "df = pd.read_csv('../data/WA_Fn-UseC_-Telco-Customer-Churn.csv')\n",
    "df['TotalCharges'] = pd.to_numeric(df['TotalCharges'], errors='coerce')\n",
    "df['TotalCharges'].fillna(df['TotalCharges'].mean(), inplace=True)\n",
    "df['Churn'] = df['Churn'].map({'Yes': 1, 'No': 0})\n"
   ]
  },
  {
   "cell_type": "markdown",
   "id": "e412edb6",
   "metadata": {},
   "source": [
    "### Step 2: Feature Engineering — Tenure Groups & Average Monthly Charge"
   ]
  },
  {
   "cell_type": "code",
   "execution_count": null,
   "id": "75778579",
   "metadata": {},
   "outputs": [],
   "source": [
    "\n",
    "def tenure_group(tenure):\n",
    "    if tenure <= 12:\n",
    "        return '0-12 months'\n",
    "    elif tenure <= 24:\n",
    "        return '12-24 months'\n",
    "    elif tenure <= 48:\n",
    "        return '24-48 months'\n",
    "    else:\n",
    "        return '48+ months'\n",
    "\n",
    "df['tenure_group'] = df['tenure'].apply(tenure_group)\n",
    "df['avg_monthly_charge'] = df['TotalCharges'] / df['tenure'].replace(0, 1)\n",
    "\n",
    "# One-hot encode tenure_group\n",
    "df = pd.get_dummies(df, columns=['tenure_group'], drop_first=True)\n",
    "df.head()\n"
   ]
  },
  {
   "cell_type": "markdown",
   "id": "e2bc7ccb",
   "metadata": {},
   "source": [
    "### Step 3: Separate Features and Target"
   ]
  },
  {
   "cell_type": "code",
   "execution_count": null,
   "id": "a316f40f",
   "metadata": {},
   "outputs": [],
   "source": [
    "\n",
    "X = df.drop(['customerID', 'Churn'], axis=1)\n",
    "y = df['Churn']\n",
    "\n",
    "# Split data\n",
    "X_train, X_test, y_train, y_test = train_test_split(X, y, test_size=0.2, random_state=42, stratify=y)\n",
    "print(f\"Training size: {X_train.shape}, Testing size: {X_test.shape}\")\n"
   ]
  },
  {
   "cell_type": "markdown",
   "id": "84a6d96f",
   "metadata": {},
   "source": [
    "### Step 4: Baseline Model — Logistic Regression"
   ]
  },
  {
   "cell_type": "code",
   "execution_count": null,
   "id": "d25fd458",
   "metadata": {},
   "outputs": [],
   "source": [
    "\n",
    "from sklearn.linear_model import LogisticRegression\n",
    "from sklearn.metrics import accuracy_score, precision_score, recall_score, f1_score, roc_auc_score\n",
    "\n",
    "lr = LogisticRegression(max_iter=1000)\n",
    "lr.fit(X_train, y_train)\n",
    "y_pred_lr = lr.predict(X_test)\n",
    "\n",
    "print(\"Logistic Regression Performance:\")\n",
    "print(f\"Accuracy: {accuracy_score(y_test, y_pred_lr):.4f}\")\n",
    "print(f\"Precision: {precision_score(y_test, y_pred_lr):.4f}\")\n",
    "print(f\"Recall: {recall_score(y_test, y_pred_lr):.4f}\")\n",
    "print(f\"F1 Score: {f1_score(y_test, y_pred_lr):.4f}\")\n",
    "print(f\"ROC-AUC: {roc_auc_score(y_test, y_pred_lr):.4f}\")\n"
   ]
  },
  {
   "cell_type": "markdown",
   "id": "6395b48d",
   "metadata": {},
   "source": [
    "### Step 5: Baseline Model — Decision Tree Classifier"
   ]
  },
  {
   "cell_type": "code",
   "execution_count": null,
   "id": "de016e6e",
   "metadata": {},
   "outputs": [],
   "source": [
    "\n",
    "from sklearn.tree import DecisionTreeClassifier\n",
    "\n",
    "dt = DecisionTreeClassifier(max_depth=5, random_state=42)\n",
    "dt.fit(X_train, y_train)\n",
    "y_pred_dt = dt.predict(X_test)\n",
    "\n",
    "print(\"Decision Tree Performance:\")\n",
    "print(f\"Accuracy: {accuracy_score(y_test, y_pred_dt):.4f}\")\n",
    "print(f\"Precision: {precision_score(y_test, y_pred_dt):.4f}\")\n",
    "print(f\"Recall: {recall_score(y_test, y_pred_dt):.4f}\")\n",
    "print(f\"F1 Score: {f1_score(y_test, y_pred_dt):.4f}\")\n",
    "print(f\"ROC-AUC: {roc_auc_score(y_test, y_pred_dt):.4f}\")\n"
   ]
  },
  {
   "cell_type": "markdown",
   "id": "72192d1a",
   "metadata": {},
   "source": [
    "### Step 6: Feature Importance from Decision Tree"
   ]
  },
  {
   "cell_type": "code",
   "execution_count": null,
   "id": "d79ff8cc",
   "metadata": {},
   "outputs": [],
   "source": [
    "\n",
    "import matplotlib.pyplot as plt\n",
    "\n",
    "feature_importances = pd.Series(dt.feature_importances_, index=X_train.columns)\n",
    "top_features = feature_importances.sort_values(ascending=False).head(10)\n",
    "\n",
    "top_features.plot(kind='barh')\n",
    "plt.xlabel('Feature Importance Score')\n",
    "plt.title('Top 10 Important Features (Decision Tree)')\n",
    "plt.gca().invert_yaxis()\n",
    "plt.show()\n"
   ]
  }
 ],
 "metadata": {
  "kernelspec": {
   "display_name": "Python 3 (ipykernel)",
   "language": "python",
   "name": "python3"
  },
  "language_info": {
   "codemirror_mode": {
    "name": "ipython",
    "version": 3
   },
   "file_extension": ".py",
   "mimetype": "text/x-python",
   "name": "python",
   "nbconvert_exporter": "python",
   "pygments_lexer": "ipython3",
   "version": "3.10.12"
  }
 },
 "nbformat": 4,
 "nbformat_minor": 5
}
