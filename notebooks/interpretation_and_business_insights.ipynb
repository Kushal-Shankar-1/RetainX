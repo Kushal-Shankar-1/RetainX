{
 "cells": [
  {
   "cell_type": "markdown",
   "id": "919714e2",
   "metadata": {},
   "source": [
    "# Telco Customer Churn Prediction — Interpretation & Business Insights"
   ]
  },
  {
   "cell_type": "markdown",
   "id": "23edbec5",
   "metadata": {},
   "source": [
    "### Step 1: Load Data and Model (from previous steps)"
   ]
  },
  {
   "cell_type": "code",
   "execution_count": null,
   "id": "d2e496d1",
   "metadata": {},
   "outputs": [],
   "source": [
    "\n",
    "import pandas as pd\n",
    "import numpy as np\n",
    "from xgboost import XGBClassifier\n",
    "import shap\n",
    "\n",
    "# Load final training data and best XGBoost model if needed\n",
    "# Assume grid_xgb.best_estimator_ from previous notebook is available or saved.\n",
    "# If using the same environment, proceed with that model.\n"
   ]
  },
  {
   "cell_type": "markdown",
   "id": "0a95fcbc",
   "metadata": {},
   "source": [
    "### Step 2: SHAP Explainability for XGBoost Model"
   ]
  },
  {
   "cell_type": "code",
   "execution_count": null,
   "id": "b8d43cc5",
   "metadata": {},
   "outputs": [],
   "source": [
    "\n",
    "# Initialize SHAP explainer\\explainer = shap.TreeExplainer(grid_xgb.best_estimator_)\n",
    "shap_values = explainer.shap_values(X_train)\n",
    "\n",
    "# Summary plot (feature impact overview)\n",
    "shap.summary_plot(shap_values, X_train)\n"
   ]
  },
  {
   "cell_type": "markdown",
   "id": "9e4f3d7a",
   "metadata": {},
   "source": [
    "### Step 3: SHAP Bar Plot for Mean Feature Importance"
   ]
  },
  {
   "cell_type": "code",
   "execution_count": null,
   "id": "eff18f97",
   "metadata": {},
   "outputs": [],
   "source": [
    "\n",
    "shap.summary_plot(shap_values, X_train, plot_type=\"bar\")\n"
   ]
  },
  {
   "cell_type": "markdown",
   "id": "b29224f4",
   "metadata": {},
   "source": [
    "### Step 4: Key Observations"
   ]
  },
  {
   "cell_type": "markdown",
   "id": "72227ead",
   "metadata": {},
   "source": [
    "\n",
    "**Observations:**  \n",
    "- Customers with month-to-month contracts, high monthly charges, and short tenure show the highest churn risk.  \n",
    "- Tenure group features and average monthly charges significantly impact churn prediction.  \n",
    "- Payment method using electronic checks and fiber optic internet are correlated with higher churn likelihood.  \n",
    "- Features related to additional services (streaming, security, backup) influence retention but less strongly than contract and billing factors.  \n"
   ]
  },
  {
   "cell_type": "markdown",
   "id": "583fbeac",
   "metadata": {},
   "source": [
    "### Step 5: Business Recommendations"
   ]
  },
  {
   "cell_type": "markdown",
   "id": "91d8eac1",
   "metadata": {},
   "source": [
    "\n",
    "**Recommendations for Businesses:**  \n",
    "- Target customers with month-to-month contracts with loyalty discounts and retention offers.  \n",
    "- Encourage long-term contracts by providing bundled service incentives.  \n",
    "- Focus on customers with higher monthly charges but low tenure — they are the most likely to churn.  \n",
    "- Improve service quality in areas where fiber optic internet churn rates are high.  \n",
    "- Promote automatic payment methods and reduce reliance on electronic check payments.  \n"
   ]
  }
 ],
 "metadata": {
  "kernelspec": {
   "display_name": "Python 3 (ipykernel)",
   "language": "python",
   "name": "python3"
  },
  "language_info": {
   "codemirror_mode": {
    "name": "ipython",
    "version": 3
   },
   "file_extension": ".py",
   "mimetype": "text/x-python",
   "name": "python",
   "nbconvert_exporter": "python",
   "pygments_lexer": "ipython3",
   "version": "3.10.12"
  }
 },
 "nbformat": 4,
 "nbformat_minor": 5
}
